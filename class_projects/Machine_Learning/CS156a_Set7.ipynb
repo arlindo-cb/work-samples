{
 "cells": [
  {
   "cell_type": "markdown",
   "metadata": {},
   "source": [
    "This assignment covers non_linear transformation, validation bias, PLA vs. SVM, etc. \n",
    "Problem set available here for reference: http://work.caltech.edu/homework/hw7.pdf"
   ]
  },
  {
   "cell_type": "code",
   "execution_count": 1,
   "metadata": {},
   "outputs": [],
   "source": [
    "import numpy as np\n",
    "from sklearn.svm import SVC\n",
    "from random import uniform\n",
    "from random import choice"
   ]
  },
  {
   "cell_type": "code",
   "execution_count": 2,
   "metadata": {},
   "outputs": [],
   "source": [
    "# Peforms (x1, x1) -> (1, x1, x2, x1^2, x2^2, x1x2, |x1 - x2|, |x1 + x2|)\n",
    "def nonlin_transform(x, phi_i):\n",
    "    n = x.shape[0]\n",
    "    phi = np.ones((n,1))\n",
    "    phi = np.hstack((phi, x))\n",
    "  \n",
    "    if phi_i >= 3:\n",
    "        phi = np.hstack((phi, np.reshape(x[:,0]**2, (n,1))))\n",
    "    if phi_i >= 4:\n",
    "        phi = np.hstack((phi, np.reshape(x[:,1]**2, (n,1))))\n",
    "    if phi_i >= 5:\n",
    "        phi = np.hstack((phi, np.reshape(x[:,0]*x[:,1], (n,1))))\n",
    "    if phi_i >= 6:\n",
    "        phi = np.hstack((phi, np.reshape(np.abs(x[:,0]-x[:,1]), (n,1))))\n",
    "    if phi_i >= 7:\n",
    "        phi = np.hstack((phi, np.reshape(np.abs(x[:,0]+ x[:,1]), (n,1))))\n",
    "\n",
    "    return phi\n",
    "\n",
    "# Calculates linear reg weight vector for matrix X and target vector y\n",
    "def weights(X, y):\n",
    "    pseudo = np.dot(np.linalg.inv((np.dot(X.T, X))), X.T)\n",
    "    return np.dot(pseudo, y)\n",
    "\n",
    "# Calculates out of sample error \n",
    "def error(w, x, y):\n",
    "    N = 0\n",
    "    \n",
    "    for i in range(x.shape[0]):\n",
    "        N += max(0, np.sign(-np.dot(w.T, x[i])*y[i]))\n",
    "    \n",
    "    return N/float(x.shape[0])"
   ]
  },
  {
   "cell_type": "code",
   "execution_count": 3,
   "metadata": {},
   "outputs": [
    {
     "name": "stdout",
     "output_type": "stream",
     "text": [
      "Validation classification error for k = 3: 0.3\n",
      "Validation classification error for k = 4: 0.5\n",
      "Validation classification error for k = 5: 0.2\n",
      "Validation classification error for k = 6: 0.0\n",
      "Validation classification error for k = 7: 0.1\n"
     ]
    }
   ],
   "source": [
    "# Question 1\n",
    "\n",
    "data = np.loadtxt('in.dta.txt')\n",
    "training_set = data[0:25]\n",
    "valid_set = data[25:]\n",
    "\n",
    "for k in [3,4,5,6,7]:\n",
    "    phi_train = nonlin_transform(training_set[:, [0,1]], k)\n",
    "    phi_w = weights(phi_train, training_set[:,2])\n",
    "    \n",
    "    phi_valid = nonlin_transform(valid_set[:,[0,1]], k)\n",
    "    err_valid = error(phi_w, phi_valid, valid_set[:,2])\n",
    "\n",
    "    print(\"Validation classification error for k = {}: {}\".format(k, err_valid))"
   ]
  },
  {
   "cell_type": "code",
   "execution_count": 4,
   "metadata": {},
   "outputs": [
    {
     "name": "stdout",
     "output_type": "stream",
     "text": [
      "Test classification error for k = 3: 0.42\n",
      "Test classification error for k = 4: 0.416\n",
      "Test classification error for k = 5: 0.188\n",
      "Test classification error for k = 6: 0.084\n",
      "Test classification error for k = 7: 0.072\n"
     ]
    }
   ],
   "source": [
    "# Question 2\n",
    "\n",
    "test_set = np.loadtxt('out.dta.txt')\n",
    "\n",
    "for k in [3,4,5,6,7]:\n",
    "    phi_train = nonlin_transform(training_set[:, [0,1]], k)\n",
    "    phi_w = weights(phi_train, training_set[:,2])\n",
    "    \n",
    "    phi_test = nonlin_transform(test_set[:,[0,1]], k)\n",
    "    err_test = error(phi_w, phi_test, test_set[:,2])\n",
    "    \n",
    "    print(\"Test classification error for k = {}: {}\".format(k, err_test))"
   ]
  },
  {
   "cell_type": "code",
   "execution_count": 5,
   "metadata": {},
   "outputs": [
    {
     "name": "stdout",
     "output_type": "stream",
     "text": [
      "Validation classification error for k = 3: 0.28\n",
      "Validation classification error for k = 4: 0.36\n",
      "Validation classification error for k = 5: 0.2\n",
      "Validation classification error for k = 6: 0.08\n",
      "Validation classification error for k = 7: 0.12\n"
     ]
    }
   ],
   "source": [
    "# Question 3\n",
    "\n",
    "valid_set = data[0:25]\n",
    "training_set = data[25:]\n",
    "\n",
    "for k in [3,4,5,6,7]:\n",
    "    phi_train = nonlin_transform(training_set[:, [0,1]], k)\n",
    "    phi_w = weights(phi_train, training_set[:,2])\n",
    "    \n",
    "    phi_valid = nonlin_transform(valid_set[:,[0,1]], k)\n",
    "    err_valid = error(phi_w, phi_valid, valid_set[:,2])\n",
    "\n",
    "    print(\"Validation classification error for k = {}: {}\".format(k, err_valid))"
   ]
  },
  {
   "cell_type": "code",
   "execution_count": 6,
   "metadata": {},
   "outputs": [
    {
     "name": "stdout",
     "output_type": "stream",
     "text": [
      "Test classification error for k = 3: 0.396\n",
      "Test classification error for k = 4: 0.388\n",
      "Test classification error for k = 5: 0.284\n",
      "Test classification error for k = 6: 0.192\n",
      "Test classification error for k = 7: 0.196\n"
     ]
    }
   ],
   "source": [
    "# Question 4\n",
    "\n",
    "for k in [3,4,5,6,7]:\n",
    "    phi_train = nonlin_transform(training_set[:, [0,1]], k)\n",
    "    phi_w = weights(phi_train, training_set[:,2])\n",
    "    \n",
    "    phi_test = nonlin_transform(test_set[:,[0,1]], k)\n",
    "    err_test = error(phi_w, phi_test, test_set[:,2])\n",
    "    \n",
    "    print(\"Test classification error for k = {}: {}\".format(k, err_test))"
   ]
  },
  {
   "cell_type": "code",
   "execution_count": 7,
   "metadata": {},
   "outputs": [
    {
     "name": "stdout",
     "output_type": "stream",
     "text": [
      "e1 = 0.5006503512080165, e2 = 0.5008693739695061, e = 0.33439434859428746\n"
     ]
    }
   ],
   "source": [
    "# Question 6\n",
    "\n",
    "e1 = [uniform(0, 1) for x in range(10**5)]\n",
    "e2 = [uniform(0, 1) for x in range(10**5)]\n",
    "e = [min(e1, e2) for e1, e2 in zip(e1, e2)]\n",
    "\n",
    "print(\"e1 = {}, e2 = {}, e = {}\".format(np.mean(e1), np.mean(e2), np.mean(e)))"
   ]
  },
  {
   "cell_type": "code",
   "execution_count": 8,
   "metadata": {},
   "outputs": [],
   "source": [
    "# Generates the random line \n",
    "def gen_random_line():\n",
    "    x1 = uniform(-1, 1)\n",
    "    y1 = uniform(-1, 1)\n",
    "    x2 = uniform(-1, 1)\n",
    "    y2 = uniform(-1, 1)\n",
    "    \n",
    "    w = np.array([x2*y1-y2*x1, y2-y1, x1-x2])\n",
    "    w_norm = np.array([1, -w[1]/w[2], -w[0]/w[2]])\n",
    "    return w, w_norm\n",
    "\n",
    "\n",
    "# Generates n random points and evaluates target function\n",
    "def gen_random_points(n, w=None, w_norm=None):\n",
    "    if w is None:\n",
    "        w, w_norm = gen_random_line()\n",
    "    \n",
    "    y = [1]\n",
    "    while len(set(y)) <= 1:\n",
    "        d_ = np.random.uniform(-1.0, 1.0,(2,n))\n",
    "        x_ = np.append(np.ones(n), d_).reshape((2+1,n))\n",
    "        y = np.sign(np.dot(w.T,x_))\n",
    "        d_ = np.append(x_, y).reshape((4,n))\n",
    "    return x_, y, w, d_, w_norm\n",
    "\n",
    "# Extracts the misclassified points \n",
    "def find_misclassified(y_, y):\n",
    "    mis = []\n",
    "    for i in range(len(y)):\n",
    "        if y_[i] != y[i]:\n",
    "            mis.append(i)\n",
    "    \n",
    "    try:\n",
    "        index = choice(mis)\n",
    "    except IndexError:\n",
    "        index = 0\n",
    "    \n",
    "    return index, len(mis)\n",
    "\n",
    "# Runs PLA algorithm using functions above\n",
    "def pla(x_, y):\n",
    "    w_ = np.zeros(3)\n",
    "    y_ = np.sign(np.dot(w_.T,x_))\n",
    "\n",
    "    while np.array_equal(y, y_) != True:\n",
    "        index, total_mc_pts= find_misclassified(y_,y)\n",
    "        w_ += y[index] * x_[:,index]\n",
    "        y_ = np.sign(np.dot(w_.T, x_))\n",
    "\n",
    "    w_n = np.array([1, -w_[1]/w_[2], -w_[0]/w_[2]])\n",
    "\n",
    "    return i, w_n, w_"
   ]
  },
  {
   "cell_type": "code",
   "execution_count": 9,
   "metadata": {},
   "outputs": [
    {
     "name": "stdout",
     "output_type": "stream",
     "text": [
      "improvement over PLA: 61.6%\n"
     ]
    }
   ],
   "source": [
    "# Question 8\n",
    "\n",
    "n = 10\n",
    "pla_dis = []\n",
    "svm_dis = []\n",
    "\n",
    "for i in range(1000):\n",
    "    x_, y, w, d_, w_n = gen_random_points(n)\n",
    "    _, w_n_, w_ = pla(x_, y)             # pla\n",
    "    clf = SVC(C=np.inf, kernel='linear') # svm\n",
    "    clf.fit(x_[1:].T, y)\n",
    "    \n",
    "    x_, y, _, _, _ = gen_random_points(10000, w, w_n)  \n",
    "    y_ = np.sign(np.dot(w_.T,x_))\n",
    "    zzz, nmc = find_misclassified(y_, y)\n",
    "    \n",
    "    pla_dis.append(nmc)\n",
    "    \n",
    "    y_ = clf.predict(x_[1:].T) # svm\n",
    "    zzz, nmc = find_misclassified(y_, y)\n",
    "    \n",
    "    svm_dis.append(nmc)\n",
    "\n",
    "diff = np.array(svm_dis) - np.array(pla_dis)\n",
    "\n",
    "print(\"improvement over PLA: {}%\".format(sum(1 for i in diff if i < 0)/float(len(diff)) * 100))"
   ]
  },
  {
   "cell_type": "code",
   "execution_count": 10,
   "metadata": {},
   "outputs": [
    {
     "name": "stdout",
     "output_type": "stream",
     "text": [
      "improvement over PLA: 65.10000000000001%\n"
     ]
    }
   ],
   "source": [
    "# Question 9\n",
    "\n",
    "n = 100\n",
    "pla_dis = []\n",
    "svm_dis = []\n",
    "sv = []\n",
    "\n",
    "for i in range(1000):\n",
    "    x_, y, w, d_, w_n = gen_random_points(n)\n",
    "    _, w_n_, w_ = pla(x_, y)             # pla\n",
    "    clf = SVC(C=np.inf, kernel='linear') # svm\n",
    "    clf.fit(x_[1:].T, y)\n",
    "    \n",
    "    x_, y, _, _, _ = gen_random_points(10000, w, w_n)  \n",
    "    y_ = np.sign(np.dot(w_.T,x_))\n",
    "    zzz, nmc = find_misclassified(y_, y)\n",
    "    \n",
    "    pla_dis.append(nmc)\n",
    "    \n",
    "    y_ = clf.predict(x_[1:].T) # svm\n",
    "    zzz, nmc = find_misclassified(y_, y)\n",
    "    \n",
    "    svm_dis.append(nmc)\n",
    "    \n",
    "    sv.append(len(clf.support_vectors_))\n",
    "\n",
    "diff = np.array(svm_dis) - np.array(pla_dis)\n",
    "\n",
    "print(\"improvement over PLA: {}%\".format(sum(1 for i in diff if i < 0)/float(len(diff)) * 100))"
   ]
  },
  {
   "cell_type": "code",
   "execution_count": 11,
   "metadata": {},
   "outputs": [
    {
     "name": "stdout",
     "output_type": "stream",
     "text": [
      "avg support vectors: 3.001\n"
     ]
    }
   ],
   "source": [
    "# Question 9\n",
    "\n",
    "print(\"avg support vectors: {}\".format(np.mean(sv)))"
   ]
  }
 ],
 "metadata": {
  "kernelspec": {
   "display_name": "Python 3",
   "language": "python",
   "name": "python3"
  },
  "language_info": {
   "codemirror_mode": {
    "name": "ipython",
    "version": 3
   },
   "file_extension": ".py",
   "mimetype": "text/x-python",
   "name": "python",
   "nbconvert_exporter": "python",
   "pygments_lexer": "ipython3",
   "version": "3.6.8"
  }
 },
 "nbformat": 4,
 "nbformat_minor": 2
}
